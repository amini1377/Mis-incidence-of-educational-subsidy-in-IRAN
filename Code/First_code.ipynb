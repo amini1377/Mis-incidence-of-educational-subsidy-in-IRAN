{
 "cells": [
  {
   "cell_type": "code",
   "execution_count": 1,
   "metadata": {},
   "outputs": [],
   "source": [
    "import numpy as np\n",
    "import pandas as pd\n",
    "import matplotlib.pyplot as plt\n",
    "import math\n",
    "import seaborn as sns\n",
    "import scipy\n",
    "import pyreadstat\n",
    "from sklearn.linear_model import LinearRegression\n",
    "import statsmodels.api as sm\n",
    "import os\n",
    "import random\n",
    "import warnings\n",
    "import pyodbc\n",
    "import time\n",
    "import os"
   ]
  },
  {
   "cell_type": "code",
   "execution_count": 2,
   "metadata": {},
   "outputs": [],
   "source": [
    "# Please substitute you path through following lines, these data are available in data folder:\n",
    "\n",
    "konkors_data_path = 'F:/پایان نامه/First Thesis Archaive/vesal_data/dataset.dta' \n",
    "# This dataset is located in the \"data\" folder, and its name is \"dataset\" that we call it konkors institute data so far. \n",
    "\n",
    "HEIS_data = 'C:\\\\Users\\\\NoteBook\\\\OneDrive\\\\Desktop\\\\My_Final_Code\\\\Data\\\\Data99.mdb'\n",
    "# This dataset is located in the \"data\" folder, and its name is \"Data99\"."
   ]
  },
  {
   "cell_type": "markdown",
   "metadata": {},
   "source": [
    "# In this code file, we'll calculate four main moments:\n",
    "### Section 1 - Moments from konkor's institute.\n",
    "### Section 2 - Moments from HEIS (1399) data.\n",
    "### Section 3 - NPV's calculation\n",
    "### Section 4 - Finding suitable moments to generate error term distribution."
   ]
  },
  {
   "cell_type": "markdown",
   "metadata": {},
   "source": [
    "### $\\textbf{Section 1 - Moments from konkor's institute.}$\n",
    "#### A) Average of ability.\n",
    "#### B) Standard deviation of ability.\n",
    "#### C) Educational investment share.\n",
    "#### D) $\\underline{b}$ is min required ability.\n",
    "#### E) Income and Ability share or power in calibration.\n"
   ]
  },
  {
   "cell_type": "code",
   "execution_count": 3,
   "metadata": {},
   "outputs": [],
   "source": [
    "dtafile = konkors_data_path\n",
    "df, meta = pyreadstat.read_dta(dtafile)"
   ]
  },
  {
   "cell_type": "code",
   "execution_count": 4,
   "metadata": {},
   "outputs": [
    {
     "name": "stdout",
     "output_type": "stream",
     "text": [
      "The average of grade in high school graduated is  16.09\n",
      "The standard deviation of grade in high school graduated is  2.35\n"
     ]
    }
   ],
   "source": [
    "print('The average of grade in high school graduated is ' ,round(df['hs_gpa'].mean() , 2 ))\n",
    "print('The standard deviation of grade in high school graduated is ' ,round(df['hs_gpa'].std(), 2))"
   ]
  },
  {
   "cell_type": "code",
   "execution_count": 5,
   "metadata": {},
   "outputs": [],
   "source": [
    "df = df.fillna(0)\n",
    "df['hs_gpa'] = df['hs_gpa'].astype(int)             # hs_gpa is high school final exam GPA.\n",
    "df['pt_session'] = df['pt_session'].astype(int)     # pt_session Private Tutoring (Week Session).\n",
    "df['cpt_session'] = df['cpt_session'].astype(int)   # cpt_session denote private tutoring for concour (Week Session).\n",
    "df['trialc'] = df['trialc'].astype(int)             # trialc is participation in trial concour.\n",
    "df['cbook'] = df['cbook'].astype(int)               # Using Books for Concour.\n",
    "df['NomrehKoll'] = df['NomrehKoll'].astype(int)     # NomrehKoll refer to total score or 'taraz'.\n",
    "df['fincome'] = df['fincome'].astype(int)           # fincome is father's income in pervious month.\n",
    "df['mincome'] = df['mincome'].astype(int)           # mincome is mother's income in prevoius month.\n",
    "df['rank'] = df['rank'].astype(int)                 # rank is student's rank in their region."
   ]
  },
  {
   "cell_type": "code",
   "execution_count": 6,
   "metadata": {},
   "outputs": [],
   "source": [
    "# Keep required variables.\n",
    "data = df[['mincome', 'fincome' , 'trialc' , 'cbook' , 'cpt_session' ,  'cpt_month' , 'hs_gpa', 'NomrehKoll' , 'rank']]"
   ]
  },
  {
   "cell_type": "markdown",
   "metadata": {},
   "source": [
    "#### 1 - A) Average of ability"
   ]
  },
  {
   "cell_type": "code",
   "execution_count": 7,
   "metadata": {},
   "outputs": [
    {
     "data": {
      "text/plain": [
       "15.901204819277108"
      ]
     },
     "execution_count": 7,
     "metadata": {},
     "output_type": "execute_result"
    }
   ],
   "source": [
    "data['hs_gpa'].mean()"
   ]
  },
  {
   "cell_type": "markdown",
   "metadata": {},
   "source": [
    "#### 1 - B) Standard deviation of ability."
   ]
  },
  {
   "cell_type": "code",
   "execution_count": 8,
   "metadata": {},
   "outputs": [
    {
     "name": "stdout",
     "output_type": "stream",
     "text": [
      "2.3014537396308588\n"
     ]
    }
   ],
   "source": [
    "print(data['hs_gpa'].std())"
   ]
  },
  {
   "cell_type": "markdown",
   "metadata": {},
   "source": [
    "#### 1 - C) Educational investment share"
   ]
  },
  {
   "cell_type": "code",
   "execution_count": 9,
   "metadata": {},
   "outputs": [],
   "source": [
    "data = data.drop(data[data['fincome'] == 0].index) # We dropped all values that have zero or unknwon values.\n",
    "# data = data[data['cpt_month']< 13] # We can just consider annual income.\n",
    "\n",
    "# data = data [ data['cpt_session']< 10 ]\n",
    "\n",
    " # I delete further data that report they prepare themeselves for kokkur more than 3 years.\n",
    "\n",
    "\n",
    "\n",
    "#### Generate rand number for differnt income deciles - Father's side:\n",
    "#### Konkor's data report father's and mother's income by five level:\n",
    "#### 1 refer to 0 and 750 (thosands toman)\n",
    "#### 2 refer to 750 and 1500 (thosands toman)\n",
    "#### 3 refer to 1500 and 3000 (thosands toman)\n",
    "#### 4 refer to 3000 and 5000 (thosands toman)\n",
    "#### 5 refer to 5000 and 15000 (thosands toman)\n",
    "#### to generate these valus we used randint that produce rand numbers between \n",
    "rand_list = [] \n",
    "random.seed(123)\n",
    "for i in data['fincome']:\n",
    "    if i ==1 : rand_list.append(random.randint(0 , 750000))\n",
    "    elif i== 2: rand_list.append(random.randint(750000 , 1500000))\n",
    "    elif i == 3: rand_list.append(random.randint(1500000 , 3000000))\n",
    "    elif i == 4: rand_list.append(random.randint(3000000 , 5000000))\n",
    "    else: rand_list.append(random.randint(5000000, 15000000))\n",
    "data['f_inc'] = rand_list\n"
   ]
  },
  {
   "cell_type": "code",
   "execution_count": 10,
   "metadata": {},
   "outputs": [
    {
     "name": "stdout",
     "output_type": "stream",
     "text": [
      "Educational investment for 5th income quantile is 0.027 .\n",
      "Educational investment for 4th income quantile is 0.034 .\n",
      "Educational investment for 3th income quantile is 0.045 .\n",
      "Educational investment for 2th income quantile is 0.055 .\n",
      "Educational investment for 1th income quantile is 0.084 .\n"
     ]
    }
   ],
   "source": [
    "\n",
    "#### We generate these random values for mother's income side again.\n",
    "rand_list = []   \n",
    "random.seed(123)\n",
    "for i in data['mincome']:\n",
    "    if i == 0 : rand_list.append(0)\n",
    "    elif i ==1 : rand_list.append(random.randint(0 , 750000))\n",
    "    elif i== 2: rand_list.append(random.randint(750000 , 1500000))\n",
    "    elif i == 3: rand_list.append(random.randint(1500000 , 3000000))\n",
    "    elif i == 4: rand_list.append(random.randint(3000000 , 5000000))\n",
    "    else: rand_list.append(random.randint(5000000, 15000000))\n",
    "data['m_inc'] = rand_list\n",
    "\n",
    "### As we told in first section, Income was reported by month - (specifically for previous month.)\n",
    "### so we assume these incomes are maintain in their past year and considering them as yearly income.\n",
    "data['total_income'] = (data['f_inc'] + data['m_inc'])*12\n",
    "\n",
    "### Vesal and Tavakoli (1397) gatherhed price index of trialc, cbook and cpt_price. Following blocks give us annual educational expenditure of households by multiple service amount and their price.\n",
    "trialc_price = []\n",
    "for i in data['trialc']:\n",
    "    if i == 0 : trialc_price.append(0)\n",
    "    elif i == 1: trialc_price.append(135000)\n",
    "    elif i == 2 : trialc_price.append(570000)\n",
    "    elif i == 3 : trialc_price.append(850000)\n",
    "data['trialc_price'] = trialc_price\n",
    "\n",
    "\n",
    "cbook_price = []\n",
    "for i in data['cbook']:\n",
    "    if i == 0: cbook_price.append(0)\n",
    "    elif i == 1: cbook_price.append(90000)\n",
    "    elif i == 2: cbook_price.append(300000)\n",
    "data['cbook_price'] = cbook_price\n",
    "\n",
    "data['cpt_price'] = data['cpt_month'] * (data['cpt_session']*4) *40000\n",
    "# Finally by adding up cpt_price, trialc_price and cbook_price we can calculate educational investment of household and educational .\n",
    "data['Edu_inv'] = data['cpt_price'] + data['trialc_price'] + data['cbook_price']\n",
    "\n",
    "### Here we determine income's quantile of people and divide them to five level.\n",
    "highest_income =data[data['total_income']>= data['total_income'].quantile(0.8)]\n",
    "upper_middle_income = data[(data['total_income'] >= data['total_income'].quantile(0.6)) & (data['total_income'] < data['total_income'].quantile(0.8))]# highest_income =data[data['total_income']>= data['total_income'].quantile(0.8)]\n",
    "middle_income = data[(data['total_income'] >= data['total_income'].quantile(0.4)) & (data['total_income'] < data['total_income'].quantile(0.6))] # highest_income =data[data['total_income']>= data['total_income'].quantile(0.8)]\n",
    "lower_middle_income = data[(data['total_income'] >= data['total_income'].quantile(0.2)) & (data['total_income'] < data['total_income'].quantile(0.4))]# highest_income =data[data['total_income']>= data['total_income'].quantile(0.8)]\n",
    "lowest_income =data[data['total_income'] < data['total_income'].quantile(0.2)]\n",
    "\n",
    "## Educational Investment share:\n",
    "print('Educational investment for 5th income quantile is', round((highest_income['Edu_inv'].sum()/ highest_income['total_income'].sum()).mean(),3), '.')\n",
    "print('Educational investment for 4th income quantile is', round((upper_middle_income['Edu_inv'].sum()/ upper_middle_income['total_income'].sum()).mean(),3) , '.')\n",
    "print('Educational investment for 3th income quantile is', round((middle_income['Edu_inv'].sum()/ middle_income['total_income'].sum()).mean(),3 ) , '.')\n",
    "print('Educational investment for 2th income quantile is', round((lower_middle_income['Edu_inv'].sum()/ lower_middle_income['total_income'].sum()).mean(),3 ) , '.')\n",
    "print('Educational investment for 1th income quantile is', round((lowest_income['Edu_inv'].sum()/ lowest_income['total_income'].sum()).mean(),3), '.')"
   ]
  },
  {
   "cell_type": "markdown",
   "metadata": {},
   "source": [
    "#### 1-D) Correlation between income and ability:"
   ]
  },
  {
   "cell_type": "code",
   "execution_count": 11,
   "metadata": {},
   "outputs": [
    {
     "name": "stdout",
     "output_type": "stream",
     "text": [
      "Correlation between income and ability is: 0.16\n"
     ]
    }
   ],
   "source": [
    "print('Correlation between income and ability is:',round(data['hs_gpa'].corr(data['total_income']),2))"
   ]
  },
  {
   "cell_type": "markdown",
   "metadata": {},
   "source": [
    "#### 1 - E) $\\underline{b}$ refer to min ability required."
   ]
  },
  {
   "cell_type": "code",
   "execution_count": 12,
   "metadata": {},
   "outputs": [
    {
     "name": "stdout",
     "output_type": "stream",
     "text": [
      "Minimum GPA for third grade graduates (based on konkor's institute data) is 10\n",
      "Maximum GPA for third grade graduates (based on konkor's institute data) is 20\n"
     ]
    }
   ],
   "source": [
    "print('Minimum GPA for third grade graduates (based on konkor\\'s institute data) is',data['hs_gpa'].min())\n",
    "print('Maximum GPA for third grade graduates (based on konkor\\'s institute data) is',data['hs_gpa'].max())\n"
   ]
  },
  {
   "cell_type": "code",
   "execution_count": 13,
   "metadata": {},
   "outputs": [],
   "source": [
    "# I build dictionary that contain every grade of hs_gpa. \n",
    "# Konkor's data has integer values and people's gpa reported by i.e. 10, 11, ... .\n",
    "dfs = {f'df_{i}': data[data['hs_gpa']==i] for i in range(10, 21)}\n"
   ]
  },
  {
   "cell_type": "code",
   "execution_count": 14,
   "metadata": {},
   "outputs": [
    {
     "name": "stdout",
     "output_type": "stream",
     "text": [
      "                            OLS Regression Results                            \n",
      "==============================================================================\n",
      "Dep. Variable:             NomrehKoll   R-squared:                       0.019\n",
      "Model:                            OLS   Adj. R-squared:                  0.010\n",
      "Method:                 Least Squares   F-statistic:                     2.033\n",
      "Date:                Tue, 14 Nov 2023   Prob (F-statistic):              0.157\n",
      "Time:                        20:22:12   Log-Likelihood:                -882.11\n",
      "No. Observations:                 105   AIC:                             1768.\n",
      "Df Residuals:                     103   BIC:                             1774.\n",
      "Df Model:                           1                                         \n",
      "Covariance Type:            nonrobust                                         \n",
      "===============================================================================\n",
      "                  coef    std err          t      P>|t|      [0.025      0.975]\n",
      "-------------------------------------------------------------------------------\n",
      "const        5183.7716    151.789     34.151      0.000    4882.735    5484.809\n",
      "cbook_price     0.0014      0.001      1.426      0.157      -0.001       0.003\n",
      "==============================================================================\n",
      "Omnibus:                        2.241   Durbin-Watson:                   1.599\n",
      "Prob(Omnibus):                  0.326   Jarque-Bera (JB):                1.969\n",
      "Skew:                           0.335   Prob(JB):                        0.374\n",
      "Kurtosis:                       3.012   Cond. No.                     2.17e+05\n",
      "==============================================================================\n",
      "\n",
      "Notes:\n",
      "[1] Standard Errors assume that the covariance matrix of the errors is correctly specified.\n",
      "[2] The condition number is large, 2.17e+05. This might indicate that there are\n",
      "strong multicollinearity or other numerical problems.\n"
     ]
    }
   ],
   "source": [
    "### We consider cbook_price (books are most popular tool between konkor's participants) as our measure to find min ability requirement\n",
    "### So we'll run regression for every gpa grades. those point that higher cbook can't improve studends NomrehKoll it's our measure for b_bar.\n",
    "### Regression for 10 gpa decile:\n",
    "y = dfs['df_10']['NomrehKoll']\n",
    "X = dfs['df_10']['cbook_price']\n",
    "X = sm.add_constant(X)\n",
    "model = sm.OLS(y, X).fit()\n",
    "print(model.summary())"
   ]
  },
  {
   "cell_type": "code",
   "execution_count": 15,
   "metadata": {},
   "outputs": [
    {
     "name": "stdout",
     "output_type": "stream",
     "text": [
      "                            OLS Regression Results                            \n",
      "==============================================================================\n",
      "Dep. Variable:             NomrehKoll   R-squared:                       0.055\n",
      "Model:                            OLS   Adj. R-squared:                  0.044\n",
      "Method:                 Least Squares   F-statistic:                     4.982\n",
      "Date:                Tue, 14 Nov 2023   Prob (F-statistic):             0.0282\n",
      "Time:                        20:22:12   Log-Likelihood:                -743.96\n",
      "No. Observations:                  88   AIC:                             1492.\n",
      "Df Residuals:                      86   BIC:                             1497.\n",
      "Df Model:                           1                                         \n",
      "Covariance Type:            nonrobust                                         \n",
      "===============================================================================\n",
      "                  coef    std err          t      P>|t|      [0.025      0.975]\n",
      "-------------------------------------------------------------------------------\n",
      "const        5171.2253    178.717     28.935      0.000    4815.947    5526.504\n",
      "cbook_price     0.0025      0.001      2.232      0.028       0.000       0.005\n",
      "==============================================================================\n",
      "Omnibus:                        2.147   Durbin-Watson:                   1.845\n",
      "Prob(Omnibus):                  0.342   Jarque-Bera (JB):                2.160\n",
      "Skew:                           0.351   Prob(JB):                        0.340\n",
      "Kurtosis:                       2.691   Cond. No.                     2.29e+05\n",
      "==============================================================================\n",
      "\n",
      "Notes:\n",
      "[1] Standard Errors assume that the covariance matrix of the errors is correctly specified.\n",
      "[2] The condition number is large, 2.29e+05. This might indicate that there are\n",
      "strong multicollinearity or other numerical problems.\n",
      "As we see, it's not significant result and people with higher expenditure over books, can't earn better score\n"
     ]
    }
   ],
   "source": [
    "### Regression for 11 gpa decile:\n",
    "y = dfs['df_11']['NomrehKoll']\n",
    "X = dfs['df_11']['cbook_price']\n",
    "X = sm.add_constant(X)\n",
    "model = sm.OLS(y, X).fit()\n",
    "print(model.summary())\n",
    "print('As we see, it\\'s not significant result and people with higher expenditure over books, can\\'t earn better score')"
   ]
  },
  {
   "cell_type": "code",
   "execution_count": 16,
   "metadata": {},
   "outputs": [
    {
     "name": "stdout",
     "output_type": "stream",
     "text": [
      "                            OLS Regression Results                            \n",
      "==============================================================================\n",
      "Dep. Variable:             NomrehKoll   R-squared:                       0.032\n",
      "Model:                            OLS   Adj. R-squared:                  0.026\n",
      "Method:                 Least Squares   F-statistic:                     6.045\n",
      "Date:                Tue, 14 Nov 2023   Prob (F-statistic):             0.0149\n",
      "Time:                        20:22:12   Log-Likelihood:                -1580.9\n",
      "No. Observations:                 187   AIC:                             3166.\n",
      "Df Residuals:                     185   BIC:                             3172.\n",
      "Df Model:                           1                                         \n",
      "Covariance Type:            nonrobust                                         \n",
      "===============================================================================\n",
      "                  coef    std err          t      P>|t|      [0.025      0.975]\n",
      "-------------------------------------------------------------------------------\n",
      "const        5214.8042    121.615     42.880      0.000    4974.873    5454.735\n",
      "cbook_price     0.0019      0.001      2.459      0.015       0.000       0.003\n",
      "==============================================================================\n",
      "Omnibus:                        3.153   Durbin-Watson:                   2.100\n",
      "Prob(Omnibus):                  0.207   Jarque-Bera (JB):                3.022\n",
      "Skew:                           0.161   Prob(JB):                        0.221\n",
      "Kurtosis:                       3.533   Cond. No.                     2.25e+05\n",
      "==============================================================================\n",
      "\n",
      "Notes:\n",
      "[1] Standard Errors assume that the covariance matrix of the errors is correctly specified.\n",
      "[2] The condition number is large, 2.25e+05. This might indicate that there are\n",
      "strong multicollinearity or other numerical problems.\n"
     ]
    }
   ],
   "source": [
    "### Regression for 12 gpa decile:\n",
    "y = dfs['df_12']['NomrehKoll']\n",
    "X = dfs['df_12']['cbook_price']\n",
    "X = sm.add_constant(X)\n",
    "model = sm.OLS(y, X).fit()\n",
    "print(model.summary())"
   ]
  },
  {
   "cell_type": "code",
   "execution_count": 17,
   "metadata": {},
   "outputs": [
    {
     "name": "stdout",
     "output_type": "stream",
     "text": [
      "                            OLS Regression Results                            \n",
      "==============================================================================\n",
      "Dep. Variable:             NomrehKoll   R-squared:                       0.114\n",
      "Model:                            OLS   Adj. R-squared:                  0.109\n",
      "Method:                 Least Squares   F-statistic:                     25.66\n",
      "Date:                Tue, 14 Nov 2023   Prob (F-statistic):           9.25e-07\n",
      "Time:                        20:22:12   Log-Likelihood:                -1705.6\n",
      "No. Observations:                 202   AIC:                             3415.\n",
      "Df Residuals:                     200   BIC:                             3422.\n",
      "Df Model:                           1                                         \n",
      "Covariance Type:            nonrobust                                         \n",
      "===============================================================================\n",
      "                  coef    std err          t      P>|t|      [0.025      0.975]\n",
      "-------------------------------------------------------------------------------\n",
      "const        5402.3005    119.603     45.169      0.000    5166.456    5638.145\n",
      "cbook_price     0.0037      0.001      5.065      0.000       0.002       0.005\n",
      "==============================================================================\n",
      "Omnibus:                        3.645   Durbin-Watson:                   1.889\n",
      "Prob(Omnibus):                  0.162   Jarque-Bera (JB):                3.302\n",
      "Skew:                           0.238   Prob(JB):                        0.192\n",
      "Kurtosis:                       3.407   Cond. No.                     2.49e+05\n",
      "==============================================================================\n",
      "\n",
      "Notes:\n",
      "[1] Standard Errors assume that the covariance matrix of the errors is correctly specified.\n",
      "[2] The condition number is large, 2.49e+05. This might indicate that there are\n",
      "strong multicollinearity or other numerical problems.\n"
     ]
    }
   ],
   "source": [
    "### Regression for 13 gpa decile:\n",
    "y = dfs['df_13']['NomrehKoll']\n",
    "X = dfs['df_13']['cbook_price']\n",
    "X = sm.add_constant(X)\n",
    "model = sm.OLS(y, X).fit()\n",
    "print(model.summary())"
   ]
  },
  {
   "cell_type": "code",
   "execution_count": 18,
   "metadata": {},
   "outputs": [
    {
     "name": "stdout",
     "output_type": "stream",
     "text": [
      "                            OLS Regression Results                            \n",
      "==============================================================================\n",
      "Dep. Variable:             NomrehKoll   R-squared:                       0.089\n",
      "Model:                            OLS   Adj. R-squared:                  0.086\n",
      "Method:                 Least Squares   F-statistic:                     36.17\n",
      "Date:                Tue, 14 Nov 2023   Prob (F-statistic):           4.33e-09\n",
      "Time:                        20:22:12   Log-Likelihood:                -3188.4\n",
      "No. Observations:                 374   AIC:                             6381.\n",
      "Df Residuals:                     372   BIC:                             6389.\n",
      "Df Model:                           1                                         \n",
      "Covariance Type:            nonrobust                                         \n",
      "===============================================================================\n",
      "                  coef    std err          t      P>|t|      [0.025      0.975]\n",
      "-------------------------------------------------------------------------------\n",
      "const        5517.1209     96.930     56.919      0.000    5326.522    5707.720\n",
      "cbook_price     0.0036      0.001      6.014      0.000       0.002       0.005\n",
      "==============================================================================\n",
      "Omnibus:                        2.322   Durbin-Watson:                   1.865\n",
      "Prob(Omnibus):                  0.313   Jarque-Bera (JB):                2.399\n",
      "Skew:                           0.172   Prob(JB):                        0.301\n",
      "Kurtosis:                       2.812   Cond. No.                     2.51e+05\n",
      "==============================================================================\n",
      "\n",
      "Notes:\n",
      "[1] Standard Errors assume that the covariance matrix of the errors is correctly specified.\n",
      "[2] The condition number is large, 2.51e+05. This might indicate that there are\n",
      "strong multicollinearity or other numerical problems.\n"
     ]
    }
   ],
   "source": [
    "### Regression for 14 gpa decile:\n",
    "y = dfs['df_14']['NomrehKoll']\n",
    "X = dfs['df_14']['cbook_price']\n",
    "X = sm.add_constant(X)\n",
    "model = sm.OLS(y, X).fit()\n",
    "print(model.summary())"
   ]
  },
  {
   "cell_type": "code",
   "execution_count": 19,
   "metadata": {},
   "outputs": [
    {
     "name": "stdout",
     "output_type": "stream",
     "text": [
      "                            OLS Regression Results                            \n",
      "==============================================================================\n",
      "Dep. Variable:             NomrehKoll   R-squared:                       0.097\n",
      "Model:                            OLS   Adj. R-squared:                  0.095\n",
      "Method:                 Least Squares   F-statistic:                     51.24\n",
      "Date:                Tue, 14 Nov 2023   Prob (F-statistic):           3.12e-12\n",
      "Time:                        20:22:12   Log-Likelihood:                -4076.2\n",
      "No. Observations:                 478   AIC:                             8156.\n",
      "Df Residuals:                     476   BIC:                             8165.\n",
      "Df Model:                           1                                         \n",
      "Covariance Type:            nonrobust                                         \n",
      "===============================================================================\n",
      "                  coef    std err          t      P>|t|      [0.025      0.975]\n",
      "-------------------------------------------------------------------------------\n",
      "const        5908.0992     89.880     65.733      0.000    5731.488    6084.710\n",
      "cbook_price     0.0036      0.000      7.158      0.000       0.003       0.005\n",
      "==============================================================================\n",
      "Omnibus:                        6.096   Durbin-Watson:                   2.091\n",
      "Prob(Omnibus):                  0.047   Jarque-Bera (JB):                4.599\n",
      "Skew:                          -0.122   Prob(JB):                        0.100\n",
      "Kurtosis:                       2.586   Cond. No.                     2.89e+05\n",
      "==============================================================================\n",
      "\n",
      "Notes:\n",
      "[1] Standard Errors assume that the covariance matrix of the errors is correctly specified.\n",
      "[2] The condition number is large, 2.89e+05. This might indicate that there are\n",
      "strong multicollinearity or other numerical problems.\n"
     ]
    }
   ],
   "source": [
    "### Regression for 15 gpa decile:\n",
    "y = dfs['df_15']['NomrehKoll']\n",
    "X = dfs['df_15']['cbook_price']\n",
    "X = sm.add_constant(X)\n",
    "model = sm.OLS(y, X).fit()\n",
    "print(model.summary())"
   ]
  },
  {
   "cell_type": "code",
   "execution_count": 20,
   "metadata": {},
   "outputs": [
    {
     "name": "stdout",
     "output_type": "stream",
     "text": [
      "                            OLS Regression Results                            \n",
      "==============================================================================\n",
      "Dep. Variable:             NomrehKoll   R-squared:                       0.076\n",
      "Model:                            OLS   Adj. R-squared:                  0.075\n",
      "Method:                 Least Squares   F-statistic:                     50.76\n",
      "Date:                Tue, 14 Nov 2023   Prob (F-statistic):           2.93e-12\n",
      "Time:                        20:22:12   Log-Likelihood:                -5321.4\n",
      "No. Observations:                 618   AIC:                         1.065e+04\n",
      "Df Residuals:                     616   BIC:                         1.066e+04\n",
      "Df Model:                           1                                         \n",
      "Covariance Type:            nonrobust                                         \n",
      "===============================================================================\n",
      "                  coef    std err          t      P>|t|      [0.025      0.975]\n",
      "-------------------------------------------------------------------------------\n",
      "const        6229.6927     87.350     71.319      0.000    6058.153    6401.232\n",
      "cbook_price     0.0035      0.000      7.124      0.000       0.003       0.004\n",
      "==============================================================================\n",
      "Omnibus:                       14.481   Durbin-Watson:                   2.096\n",
      "Prob(Omnibus):                  0.001   Jarque-Bera (JB):               15.913\n",
      "Skew:                          -0.312   Prob(JB):                     0.000350\n",
      "Kurtosis:                       3.478   Cond. No.                     2.91e+05\n",
      "==============================================================================\n",
      "\n",
      "Notes:\n",
      "[1] Standard Errors assume that the covariance matrix of the errors is correctly specified.\n",
      "[2] The condition number is large, 2.91e+05. This might indicate that there are\n",
      "strong multicollinearity or other numerical problems.\n"
     ]
    }
   ],
   "source": [
    "### Regression for 16 gpa decile:\n",
    "y = dfs['df_16']['NomrehKoll']\n",
    "X = dfs['df_16']['cbook_price']\n",
    "X = sm.add_constant(X)\n",
    "model = sm.OLS(y, X).fit()\n",
    "print(model.summary())"
   ]
  },
  {
   "cell_type": "code",
   "execution_count": 21,
   "metadata": {},
   "outputs": [
    {
     "name": "stdout",
     "output_type": "stream",
     "text": [
      "                            OLS Regression Results                            \n",
      "==============================================================================\n",
      "Dep. Variable:             NomrehKoll   R-squared:                       0.069\n",
      "Model:                            OLS   Adj. R-squared:                  0.068\n",
      "Method:                 Least Squares   F-statistic:                     58.11\n",
      "Date:                Tue, 14 Nov 2023   Prob (F-statistic):           7.19e-14\n",
      "Time:                        20:22:12   Log-Likelihood:                -6693.2\n",
      "No. Observations:                 782   AIC:                         1.339e+04\n",
      "Df Residuals:                     780   BIC:                         1.340e+04\n",
      "Df Model:                           1                                         \n",
      "Covariance Type:            nonrobust                                         \n",
      "===============================================================================\n",
      "                  coef    std err          t      P>|t|      [0.025      0.975]\n",
      "-------------------------------------------------------------------------------\n",
      "const        6757.3692     82.850     81.562      0.000    6594.734    6920.004\n",
      "cbook_price     0.0031      0.000      7.623      0.000       0.002       0.004\n",
      "==============================================================================\n",
      "Omnibus:                        2.367   Durbin-Watson:                   2.099\n",
      "Prob(Omnibus):                  0.306   Jarque-Bera (JB):                2.207\n",
      "Skew:                          -0.103   Prob(JB):                        0.332\n",
      "Kurtosis:                       3.159   Cond. No.                     3.77e+05\n",
      "==============================================================================\n",
      "\n",
      "Notes:\n",
      "[1] Standard Errors assume that the covariance matrix of the errors is correctly specified.\n",
      "[2] The condition number is large, 3.77e+05. This might indicate that there are\n",
      "strong multicollinearity or other numerical problems.\n"
     ]
    }
   ],
   "source": [
    "### Regression for 17 gpa decile:\n",
    "y = dfs['df_17']['NomrehKoll']\n",
    "X = dfs['df_17']['cbook_price']\n",
    "X = sm.add_constant(X)\n",
    "model = sm.OLS(y, X).fit()\n",
    "print(model.summary())"
   ]
  },
  {
   "cell_type": "code",
   "execution_count": 22,
   "metadata": {},
   "outputs": [
    {
     "name": "stdout",
     "output_type": "stream",
     "text": [
      "                            OLS Regression Results                            \n",
      "==============================================================================\n",
      "Dep. Variable:             NomrehKoll   R-squared:                       0.108\n",
      "Model:                            OLS   Adj. R-squared:                  0.107\n",
      "Method:                 Least Squares   F-statistic:                     91.76\n",
      "Date:                Tue, 14 Nov 2023   Prob (F-statistic):           1.35e-20\n",
      "Time:                        20:22:12   Log-Likelihood:                -6496.9\n",
      "No. Observations:                 761   AIC:                         1.300e+04\n",
      "Df Residuals:                     759   BIC:                         1.301e+04\n",
      "Df Model:                           1                                         \n",
      "Covariance Type:            nonrobust                                         \n",
      "===============================================================================\n",
      "                  coef    std err          t      P>|t|      [0.025      0.975]\n",
      "-------------------------------------------------------------------------------\n",
      "const        7318.8654     86.605     84.509      0.000    7148.852    7488.878\n",
      "cbook_price     0.0038      0.000      9.579      0.000       0.003       0.005\n",
      "==============================================================================\n",
      "Omnibus:                       12.073   Durbin-Watson:                   1.969\n",
      "Prob(Omnibus):                  0.002   Jarque-Bera (JB):               12.286\n",
      "Skew:                          -0.295   Prob(JB):                      0.00215\n",
      "Kurtosis:                       2.801   Cond. No.                     4.25e+05\n",
      "==============================================================================\n",
      "\n",
      "Notes:\n",
      "[1] Standard Errors assume that the covariance matrix of the errors is correctly specified.\n",
      "[2] The condition number is large, 4.25e+05. This might indicate that there are\n",
      "strong multicollinearity or other numerical problems.\n"
     ]
    }
   ],
   "source": [
    "### Regression for 18 gpa decile:\n",
    "y = dfs['df_18']['NomrehKoll']\n",
    "X = dfs['df_18']['cbook_price']\n",
    "X = sm.add_constant(X)\n",
    "model = sm.OLS(y, X).fit()\n",
    "print(model.summary())"
   ]
  },
  {
   "cell_type": "code",
   "execution_count": 23,
   "metadata": {},
   "outputs": [
    {
     "name": "stdout",
     "output_type": "stream",
     "text": [
      "                            OLS Regression Results                            \n",
      "==============================================================================\n",
      "Dep. Variable:             NomrehKoll   R-squared:                       0.113\n",
      "Model:                            OLS   Adj. R-squared:                  0.111\n",
      "Method:                 Least Squares   F-statistic:                     64.77\n",
      "Date:                Tue, 14 Nov 2023   Prob (F-statistic):           5.99e-15\n",
      "Time:                        20:22:12   Log-Likelihood:                -4321.6\n",
      "No. Observations:                 510   AIC:                             8647.\n",
      "Df Residuals:                     508   BIC:                             8656.\n",
      "Df Model:                           1                                         \n",
      "Covariance Type:            nonrobust                                         \n",
      "===============================================================================\n",
      "                  coef    std err          t      P>|t|      [0.025      0.975]\n",
      "-------------------------------------------------------------------------------\n",
      "const        8343.7686    110.861     75.264      0.000    8125.967    8561.570\n",
      "cbook_price     0.0038      0.000      8.048      0.000       0.003       0.005\n",
      "==============================================================================\n",
      "Omnibus:                       11.254   Durbin-Watson:                   1.999\n",
      "Prob(Omnibus):                  0.004   Jarque-Bera (JB):               13.120\n",
      "Skew:                          -0.264   Prob(JB):                      0.00142\n",
      "Kurtosis:                       3.583   Cond. No.                     5.09e+05\n",
      "==============================================================================\n",
      "\n",
      "Notes:\n",
      "[1] Standard Errors assume that the covariance matrix of the errors is correctly specified.\n",
      "[2] The condition number is large, 5.09e+05. This might indicate that there are\n",
      "strong multicollinearity or other numerical problems.\n"
     ]
    }
   ],
   "source": [
    "### Regression for 19 gpa decile:\n",
    "y = dfs['df_19']['NomrehKoll']\n",
    "X = dfs['df_19']['cbook_price']\n",
    "X = sm.add_constant(X)\n",
    "model = sm.OLS(y, X).fit()\n",
    "print(model.summary())"
   ]
  },
  {
   "cell_type": "code",
   "execution_count": 24,
   "metadata": {},
   "outputs": [
    {
     "name": "stdout",
     "output_type": "stream",
     "text": [
      "                            OLS Regression Results                            \n",
      "==============================================================================\n",
      "Dep. Variable:             NomrehKoll   R-squared:                       0.093\n",
      "Model:                            OLS   Adj. R-squared:                 -0.089\n",
      "Method:                 Least Squares   F-statistic:                    0.5115\n",
      "Date:                Tue, 14 Nov 2023   Prob (F-statistic):              0.506\n",
      "Time:                        20:22:12   Log-Likelihood:                -56.857\n",
      "No. Observations:                   7   AIC:                             117.7\n",
      "Df Residuals:                       5   BIC:                             117.6\n",
      "Df Model:                           1                                         \n",
      "Covariance Type:            nonrobust                                         \n",
      "===============================================================================\n",
      "                  coef    std err          t      P>|t|      [0.025      0.975]\n",
      "-------------------------------------------------------------------------------\n",
      "const        1.016e+04    822.025     12.359      0.000    8046.406    1.23e+04\n",
      "cbook_price    -0.0025      0.004     -0.715      0.506      -0.012       0.007\n",
      "==============================================================================\n",
      "Omnibus:                          nan   Durbin-Watson:                   1.821\n",
      "Prob(Omnibus):                    nan   Jarque-Bera (JB):                0.638\n",
      "Skew:                          -0.003   Prob(JB):                        0.727\n",
      "Kurtosis:                       1.520   Cond. No.                     5.28e+05\n",
      "==============================================================================\n",
      "\n",
      "Notes:\n",
      "[1] Standard Errors assume that the covariance matrix of the errors is correctly specified.\n",
      "[2] The condition number is large, 5.28e+05. This might indicate that there are\n",
      "strong multicollinearity or other numerical problems.\n"
     ]
    },
    {
     "name": "stderr",
     "output_type": "stream",
     "text": [
      "c:\\Users\\NoteBook\\AppData\\Local\\Programs\\Python\\Python310\\lib\\site-packages\\statsmodels\\stats\\stattools.py:74: ValueWarning: omni_normtest is not valid with less than 8 observations; 7 samples were given.\n",
      "  warn(\"omni_normtest is not valid with less than 8 observations; %i \"\n"
     ]
    }
   ],
   "source": [
    "### Regression for 20 gpa decile:\n",
    "y = dfs['df_20']['NomrehKoll']\n",
    "X = dfs['df_20']['cbook_price']\n",
    "X = sm.add_constant(X)\n",
    "model = sm.OLS(y, X).fit()\n",
    "print(model.summary())\n",
    "\n",
    "### Regression result for students with 20 grade is insignificant, Because of low number of obs it's negligible. "
   ]
  },
  {
   "cell_type": "markdown",
   "metadata": {},
   "source": [
    "#### 1 - E) Income and Ability share or power in calibration.\n"
   ]
  },
  {
   "cell_type": "code",
   "execution_count": 25,
   "metadata": {},
   "outputs": [
    {
     "name": "stdout",
     "output_type": "stream",
     "text": [
      "calibration parameter for ability is: 0.41\n",
      "calibration parameter for investment is: 0.59\n"
     ]
    }
   ],
   "source": [
    "## Main calibration code to find alpha and beta values.\n",
    "\n",
    "tedad  = np.linspace(0, 1, num=1000)   \n",
    "tedad_new = []\n",
    "for i in tedad:\n",
    "    our_round = round(i , 2)\n",
    "    tedad_new.append(our_round)\n",
    "\n",
    "lowest_error = 9e+20\n",
    "b_bar = 10     ### Min ability required that we earned from above section.\n",
    "beta_inv = 0\n",
    "alpha_abil = 0\n",
    "# Because of our assumed taraz functional form, for calibration we just keep our result for grades upper than b_bar.\n",
    "df1 = data[data['hs_gpa']>=b_bar]\n",
    "# Our calibration method is find min error between existed NomrehKoll and our simulated taraz.\n",
    "# We have an important assumption assumption that alpha + beta  = 1\n",
    "for alpha in tedad_new:\n",
    "    beta= 1- alpha\n",
    "    # print(alpha , beta)\n",
    "    df1['new_taraz'] =b_bar + ((df1['hs_gpa']-b_bar)**alpha * (df1['Edu_inv'])**beta)\n",
    "    error_Tr = abs(df1['new_taraz'] - df1['NomrehKoll']).sum()\n",
    "    # We calculate difference between real value of total score (NomrehKoll) and our simulated taraz in each iteration and keep the alpha and beta that minimize our obj function. \n",
    "    warnings.filterwarnings(\"ignore\")\n",
    "    if error_Tr < lowest_error:\n",
    "        lowest_error = error_Tr\n",
    "        alpha_abil = alpha\n",
    "        beta_inv = beta\n",
    "        df1['final_sim_taraz'] = df1['new_taraz']\n",
    "# warnings.filterwarnings(\"ignore\")\n",
    "print('calibration parameter for ability is:' , round(alpha_abil, 2))\n",
    "print('calibration parameter for investment is:' , round(beta_inv,2))\n"
   ]
  },
  {
   "cell_type": "code",
   "execution_count": 26,
   "metadata": {},
   "outputs": [
    {
     "name": "stdout",
     "output_type": "stream",
     "text": [
      "Simulated Taraz has average equal to 5902.040010335523 real taraz has average equal: 7106.245865758755\n",
      "Simulated Taraz has standard deviation equal to 5246.478198946123 real taraz has standard deviation equal: 1695.2169258804931\n"
     ]
    }
   ],
   "source": [
    "print('Simulated Taraz has average equal to' , df1['final_sim_taraz'].mean(), 'real taraz has average equal:' , df1['NomrehKoll'].mean())\n",
    "print('Simulated Taraz has standard deviation equal to' , df1['final_sim_taraz'].std(), 'real taraz has standard deviation equal:' , df1['NomrehKoll'].std())\n"
   ]
  },
  {
   "cell_type": "markdown",
   "metadata": {},
   "source": [
    "### $\\textbf{Section 2) Moments from HEIS (1399) data.}$\n",
    "#### A) Weighted average Income mean.\n",
    "#### B) Weighted standared deviation of Income.\n"
   ]
  },
  {
   "cell_type": "code",
   "execution_count": 27,
   "metadata": {},
   "outputs": [],
   "source": [
    "conn = pyodbc.connect('DRIVER={Microsoft Access Driver (*.mdb, *.accdb)};DBQ=' +HEIS_data)\n",
    "\n",
    "sql_query = 'SELECT * FROM U99Data'    # general information about household like weight.\n",
    "sql_query_1 = 'SELECT * FROM U99P3S01'  # Food's expenditure (Monthly).\n",
    "sql_query_2 = 'SELECT * FROM U99P3S02'  # Drink's expenditure (Monthly).\n",
    "sql_query_3 = 'SELECT * FROM U99P3S03'  \n",
    "sql_query_4 = 'SELECT * FROM U99P3S12'  \n",
    "# 3 and 4 quries are cloth, shoe, healthcare, transportation, post service, entertaintment, fastfoods and makeup,....(Monthly).\n",
    "\n",
    "sql_query_5 = 'SELECT * FROM U99P3S04' # House's expenditure like water, electricity ,... (Monthly).\n",
    "sql_query_6 = 'SELECT * FROM U99P3S13' # Durable goods expenditure like purchasing cement and home repair and ...  (by year).\n",
    "\n",
    "exp_social = pd.read_sql(sql_query, conn) # people's weight chractristic stored in 'weight'and following refer to data that show us price.\n",
    "exp_food = pd.read_sql(sql_query_1, conn) # DYCOL06\n",
    "exp_drink = pd.read_sql(sql_query_2, conn) # DYCOL06\n",
    "exp_cloth = pd.read_sql(sql_query_3, conn) # DYCOL03\n",
    "exp_health = pd.read_sql(sql_query_4, conn) # DYCOL03\n",
    "exp_house = pd.read_sql(sql_query_5, conn) # DYCOL04\n",
    "exp_durable = pd.read_sql(sql_query_6, conn) #DYCOL05 and DYCOL01\n"
   ]
  },
  {
   "cell_type": "code",
   "execution_count": 28,
   "metadata": {},
   "outputs": [],
   "source": [
    "# Change data type to int and rename our favoraite column:\n",
    "\n",
    "exp_social['weight'] = pd.to_numeric(exp_social['weight'], errors='coerce').fillna(0).astype(int)\n",
    "exp_food['exp_food'] = pd.to_numeric(exp_food['DYCOL06'], errors='coerce').fillna(0).astype(int)\n",
    "exp_drink['exp_drink'] = pd.to_numeric(exp_drink['DYCOL06'], errors='coerce').fillna(0).astype(int)\n",
    "exp_cloth['exp_cloth'] = pd.to_numeric(exp_cloth['DYCOL03'], errors='coerce').fillna(0).astype(int)\n",
    "exp_health['exp_health'] = pd.to_numeric(exp_health['DYCOL03'], errors='coerce').fillna(0).astype(int)\n",
    "exp_house['exp_house'] = pd.to_numeric(exp_house['DYCOL04'], errors='coerce').fillna(0).astype(int)\n",
    "exp_durable['exp_durable'] = pd.to_numeric(exp_durable['DYCOL05'], errors='coerce').fillna(0).astype(int)\n",
    "exp_durable['code'] = pd.to_numeric(exp_durable['DYCOL01'], errors='coerce').fillna(0).astype(int)"
   ]
  },
  {
   "cell_type": "code",
   "execution_count": 29,
   "metadata": {},
   "outputs": [],
   "source": [
    "# Yearly expenditure of households (changing to toman):\n",
    "exp_food = exp_food.groupby('Address').sum()*12/10\n",
    "exp_drink = exp_drink.groupby('Address').sum()*12/10\n",
    "exp_cloth = exp_cloth.groupby('Address').sum()*12/10\n",
    "exp_health = exp_health.groupby('Address').sum()*12/10\n",
    "exp_house = exp_house.groupby('Address').sum()*12/10\n",
    "exp_durable['exp_durable'] = exp_durable['exp_durable']/10\n",
    "\n",
    "# Small number of observations have negative expenditure that we get them out.\n",
    "exp_house = exp_house[exp_house['exp_house']>=0]\n",
    "exp_drink = exp_drink[exp_drink['exp_drink']>=0]\n",
    "exp_cloth = exp_cloth[exp_cloth['exp_cloth']>=0]\n",
    "exp_health = exp_health[exp_health['exp_health']>=0]\n",
    "exp_food = exp_food[exp_food['exp_food']>=0]\n",
    "exp_durable = exp_durable[exp_durable['exp_durable']>=0]\n",
    "exp_durable_after = exp_durable"
   ]
  },
  {
   "cell_type": "code",
   "execution_count": 30,
   "metadata": {},
   "outputs": [],
   "source": [
    "exp_durable = exp_durable.groupby('Address').sum()\n"
   ]
  },
  {
   "cell_type": "code",
   "execution_count": 31,
   "metadata": {},
   "outputs": [],
   "source": [
    "# Merge all of dataframes together and create total expenditure of households. \n",
    "exp_total = pd.merge( exp_cloth , exp_durable , on = 'Address')\n",
    "exp_total = pd.merge( exp_total , exp_health , on = 'Address')\n",
    "exp_total = pd.merge( exp_total , exp_food , on = 'Address')\n",
    "exp_total = pd.merge( exp_total , exp_house , on = 'Address')\n",
    "exp_total = pd.merge( exp_total , exp_social , on = 'Address')\n",
    "\n",
    "# create one column that sum up all of expenditures.\n",
    "exp_total['total_cost'] = exp_total['exp_cloth'] + exp_total['exp_health'] +exp_total['exp_food']+ exp_total['exp_house'] + exp_total['exp_durable'] #+ exp_total['exp_drink']"
   ]
  },
  {
   "cell_type": "code",
   "execution_count": 32,
   "metadata": {},
   "outputs": [],
   "source": [
    "# We write a function that calculate average expenditure of household with considering peoples weight.\n",
    "def wei_income(values , weights):\n",
    "    wei_mean = np.average(values , weights=weight)\n",
    "    wei_var = np.average((values - wei_mean)**2 , weights= weight)\n",
    "    return print('Weighted average of income is', wei_mean, 'Weighted sqrt is', np.sqrt(wei_var))\n",
    "\n"
   ]
  },
  {
   "cell_type": "code",
   "execution_count": 33,
   "metadata": {},
   "outputs": [
    {
     "name": "stdout",
     "output_type": "stream",
     "text": [
      "Weighted average of income is 59556215.2119475 Weighted sqrt is 41273951.44577053\n"
     ]
    }
   ],
   "source": [
    "## wei_icnome\n",
    "expen = exp_total['total_cost'].to_numpy()\n",
    "weight = exp_total['weight'].to_numpy()\n",
    "\n",
    "wei_income(values=expen , weights= weight)\n"
   ]
  },
  {
   "cell_type": "markdown",
   "metadata": {},
   "source": [
    "### $\\textbf{Section 3: calculation of College's NPV }$\n",
    "####"
   ]
  },
  {
   "cell_type": "code",
   "execution_count": 34,
   "metadata": {},
   "outputs": [],
   "source": [
    "# We define a function that calculate NPV for different level uni attended.\n",
    "def cal_npv(init_value, growth_rate):\n",
    "    dis_rate = 0.22 # Discount rate based on average of past 20 years inflation.\n",
    "    num_years = 30   # Number of year\n",
    "    npv = 0\n",
    "    cash_flow = init_value\n",
    "\n",
    "    for year in range(1, num_years + 1):\n",
    "        discounted_cash_flow = cash_flow / (1 + dis_rate) ** year\n",
    "        npv += discounted_cash_flow\n",
    "        cash_flow *= (1 + growth_rate)\n",
    "\n",
    "    return npv\n"
   ]
  },
  {
   "cell_type": "markdown",
   "metadata": {},
   "source": [
    "##### NPV of A's college level graduated "
   ]
  },
  {
   "cell_type": "code",
   "execution_count": 35,
   "metadata": {},
   "outputs": [
    {
     "name": "stdout",
     "output_type": "stream",
     "text": [
      "npv of A's college level is 4994868378.815731 tomans\n"
     ]
    }
   ],
   "source": [
    "### In current and following codes, we put first argument as those level college expenditure and second argument as income growth rate.\n",
    "print('npv of A\\'s college level is', cal_npv(180000000 , 0.23) ,'tomans')"
   ]
  },
  {
   "cell_type": "markdown",
   "metadata": {},
   "source": [
    "##### NPV of B's college level graduated "
   ]
  },
  {
   "cell_type": "code",
   "execution_count": 36,
   "metadata": {},
   "outputs": [
    {
     "name": "stdout",
     "output_type": "stream",
     "text": [
      "npv of B's college level is: 4438520013.91096 tomans\n"
     ]
    }
   ],
   "source": [
    "print('npv of B\\'s college level is:' , cal_npv(170000000 , 0.225) , 'tomans')"
   ]
  },
  {
   "cell_type": "markdown",
   "metadata": {},
   "source": [
    "##### NPV of C's college level graduated "
   ]
  },
  {
   "cell_type": "code",
   "execution_count": 37,
   "metadata": {},
   "outputs": [
    {
     "name": "stdout",
     "output_type": "stream",
     "text": [
      "npv of B's college level is: 3709319365.3432913 tomans\n"
     ]
    }
   ],
   "source": [
    "print('npv of B\\'s college level is:',cal_npv(160000000 , 0.215) , 'tomans')"
   ]
  },
  {
   "cell_type": "markdown",
   "metadata": {},
   "source": [
    "##### NPV of D's college level graduated "
   ]
  },
  {
   "cell_type": "code",
   "execution_count": 38,
   "metadata": {},
   "outputs": [
    {
     "name": "stdout",
     "output_type": "stream",
     "text": [
      "npv of B's college level is: 3391289739.989186 tomans\n"
     ]
    }
   ],
   "source": [
    "print('npv of B\\'s college level is:', cal_npv(155000000 , 0.210) , 'tomans')"
   ]
  },
  {
   "cell_type": "markdown",
   "metadata": {},
   "source": [
    "##### NPV of A's college level graduated "
   ]
  },
  {
   "cell_type": "code",
   "execution_count": 39,
   "metadata": {},
   "outputs": [
    {
     "name": "stdout",
     "output_type": "stream",
     "text": [
      "npv of B's college level is: 3456927605.9244614 tomans\n"
     ]
    }
   ],
   "source": [
    "print('npv of B\\'s college level is:',cal_npv(158000000 , 0.210) , 'tomans')"
   ]
  },
  {
   "cell_type": "markdown",
   "metadata": {},
   "source": [
    "# $\\textbf{Section 4: Error Term}$"
   ]
  },
  {
   "cell_type": "code",
   "execution_count": 40,
   "metadata": {},
   "outputs": [],
   "source": [
    "### This is joint-normal distribution that produce joint normally distribution that has 0.4 correlation between Income and Ability\n",
    "\n",
    "mean = [15.90,5.95562152119475]\n",
    "cov= [[2.3**2,1.5188814132043555], [1.5188814132043555,4.127395144577053**2]]\n",
    "n = 1000\n",
    "np.random.seed(n)\n",
    "b,y = np.random.multivariate_normal(mean, cov, n).T\n",
    "x1_test = b,y\n",
    "\n",
    "x1_test = pd.DataFrame(x1_test).T\n",
    "x1_test = x1_test.rename(columns={0: 'Ability', 1: 'Income'})\n",
    "\n",
    "x1_test['Ability'] = x1_test['Ability'].apply(lambda x:x if x>0 else 0)\n",
    "x1_test['Income'] = x1_test['Income'].apply(lambda x:x if x>0 else 0)"
   ]
  },
  {
   "cell_type": "code",
   "execution_count": 41,
   "metadata": {},
   "outputs": [],
   "source": [
    "invest_mapping = {\n",
    "    0:  0.08,\n",
    "    1: 0.05,\n",
    "    2: 0.04,\n",
    "    3: 0.03,\n",
    "    4: 0.02,\n",
    "} # Educational investment as a share of households income.\n",
    "\n",
    "# Bin the 'Income' column into deciles\n",
    "x1_test['Decile'] = pd.qcut(x1_test['Income'], 5, labels=False, duplicates='drop')\n",
    "\n",
    "# Calculate the 'edu_inv1' column using the investment mapping\n",
    "x1_test['edu_inv1'] = x1_test.apply(lambda row: row['Income'] * invest_mapping[row['Decile']], axis=1)\n",
    "\n",
    "# Drop the temporary 'Decile' column\n",
    "x1_test.drop(columns=['Decile'], inplace=True)\n",
    "\n",
    "\n"
   ]
  },
  {
   "cell_type": "code",
   "execution_count": 42,
   "metadata": {},
   "outputs": [],
   "source": [
    "# Income and Ability decile code (I write this block to write ability and Income decile over each household and finally use this deciles for heatmap):\n",
    "\n",
    "\n",
    "\n",
    "income_quantiles = np.quantile(x1_test['Income'], [0.2, 0.4, 0.6, 0.8])\n",
    "Income_decile = [5 if i >= income_quantiles[3] else 4 if i >= income_quantiles[2] else 3 if i >= income_quantiles[1] else 2 if i >= income_quantiles[0] else 1 for i in x1_test['Income']]\n",
    "\n",
    "x1_test['Income_decile'] = Income_decile\n",
    "\n",
    "\n",
    "\n",
    "ability_quantiles = np.quantile(x1_test['Ability'], [0.2, 0.4, 0.6, 0.8])\n",
    "Ability_decile = [5 if i >= ability_quantiles[3] else 4 if i >= ability_quantiles[2] else 3 if i >= ability_quantiles[1] else 2 if i >= ability_quantiles[0] else 1 for i in x1_test['Ability']]\n",
    "x1_test['Ability_decile'] = Ability_decile\n"
   ]
  },
  {
   "cell_type": "code",
   "execution_count": 43,
   "metadata": {},
   "outputs": [],
   "source": [
    "x_noaid_test = x1_test.copy() # I saved this dataframe for future analysis.\n",
    "\n",
    "# Epple's utility function\n",
    "beta = 0.8\n",
    "def epple(row, quality_utility):\n",
    "    return (math.log(row['Income'] - row['edu_inv1']+1 ))+ math.log(quality_utility+1)+ beta *math.log( row[\"Ability\"]+1)"
   ]
  },
  {
   "cell_type": "code",
   "execution_count": 44,
   "metadata": {},
   "outputs": [],
   "source": [
    "quality_utility = {\"A\":499.4868378815731 , \"B\":443.852001391096 , \"C\":370.93193653432913 , \"D\":339.1289739989186 , \"E\":345.69276059244614}\n",
    "mu = 1\n",
    "sigma = .008\n",
    "for label in quality_utility.keys():\n",
    "    noise = np.random.gumbel(mu, sigma , x_noaid_test.shape[0])\n",
    "    x_noaid_test[f'util_quality_{label}'] = x_noaid_test.apply(lambda x: epple(x, quality_utility[label]), axis=1) + noise "
   ]
  },
  {
   "cell_type": "code",
   "execution_count": 45,
   "metadata": {},
   "outputs": [],
   "source": [
    "x_need_aid_test = x1_test.copy()\n",
    "\n",
    "# Calibration based on calibrated moment:\n",
    "b_bar = 10\n",
    "zeta = 0.41\n",
    "OUR_SAT = []\n",
    "for i,j in enumerate(x_noaid_test['Ability']):\n",
    "    if j>= b_bar: OUR_SAT.append(b_bar+ (j-b_bar)**(zeta) * (x_noaid_test.iloc[i]['edu_inv1']**(1-zeta)))\n",
    "    else:OUR_SAT.append(j)\n",
    "\n",
    "# x_need_aid_test['OUR_SAT'] =OUR_SAT\n",
    "x_noaid_test['OUR_SAT'] =OUR_SAT\n",
    "x_need_aid_test['number'] = list(range(x_need_aid_test.shape[0]))"
   ]
  },
  {
   "cell_type": "code",
   "execution_count": 46,
   "metadata": {},
   "outputs": [],
   "source": [
    "x_noaid_test = x_noaid_test.sort_values(by = 'OUR_SAT' , ascending= False) # Sort value based on taraz or SAT to priorotize people woth higher taraz."
   ]
  },
  {
   "cell_type": "code",
   "execution_count": 47,
   "metadata": {},
   "outputs": [],
   "source": [
    "x_noaid_final_test = x_noaid_test[['util_quality_A' , 'util_quality_B' , 'util_quality_C' , 'util_quality_D' , 'util_quality_E']]"
   ]
  },
  {
   "cell_type": "code",
   "execution_count": 48,
   "metadata": {},
   "outputs": [],
   "source": [
    "x_noaid_final_test = x_noaid_final_test.T\n",
    "\n",
    "for i,j in enumerate(x_noaid_final_test):\n",
    "    # print(j)\n",
    "    x_noaid_final_test[f'rank_{j}'] = x_noaid_final_test[j].rank(ascending = False)    \n",
    "\n",
    "\n",
    "\n",
    "x_noaid_final_test = x_noaid_final_test.T\n",
    "# x_noaid_final_test\n"
   ]
  },
  {
   "cell_type": "code",
   "execution_count": 49,
   "metadata": {},
   "outputs": [],
   "source": [
    "# Capacity of people attendance in every grade of university.\n",
    "A_cap = n/5\n",
    "B_cap = n/5\n",
    "C_cap = n/5\n",
    "D_cap = n/5\n",
    "E_cap = n/5\n",
    "\n",
    "\n",
    "\n",
    "A_students_people = []\n",
    "B_students_people = []\n",
    "C_students_people = []\n",
    "D_students_people = []\n",
    "E_students_people = []\n"
   ]
  },
  {
   "cell_type": "code",
   "execution_count": 50,
   "metadata": {},
   "outputs": [],
   "source": [
    "###  Assighning people to universities based on their preference_list:\n",
    "\n",
    "for i,j in enumerate(x_noaid_test.index):\n",
    "    # print(j)\n",
    "    preference_list = x_noaid_final_test.loc[f'rank_{j}'].tolist()\n",
    "    for prefer in preference_list:\n",
    "        if prefer== 1 and A_cap>=1:\n",
    "            A_cap -=1\n",
    "            A_students_people.append(j)\n",
    "            break  \n",
    "        elif prefer ==2 and B_cap>=1:\n",
    "            B_cap -=1\n",
    "            B_students_people.append(j)\n",
    "            break        \n",
    "        elif prefer ==3 and C_cap >=1:\n",
    "            C_cap -=1\n",
    "            C_students_people.append(j)\n",
    "            break\n",
    "        elif prefer ==4 and D_cap >=1:\n",
    "            D_cap -=1\n",
    "            D_students_people.append(j)\n",
    "            break\n",
    "        elif prefer ==5 and E_cap >=1:\n",
    "            E_cap -=1\n",
    "            E_students_people.append(j)\n",
    "            break\n"
   ]
  },
  {
   "cell_type": "code",
   "execution_count": 51,
   "metadata": {},
   "outputs": [],
   "source": [
    "### Rank or 'Rotbeh' of every student as a number column\n",
    "number = []\n",
    "for i in range(len(x_noaid_final_test)):\n",
    "    number.append(i)\n",
    "x_noaid_final_test['number'] = number\n"
   ]
  },
  {
   "cell_type": "code",
   "execution_count": 52,
   "metadata": {},
   "outputs": [],
   "source": [
    "#### Convert to DataFrame and change name to fit in merge condition.\n",
    "A_stu = pd.DataFrame(A_students_people)\n",
    "B_stu = pd.DataFrame(B_students_people)\n",
    "C_stu = pd.DataFrame(C_students_people)\n",
    "D_stu = pd.DataFrame(D_students_people)\n",
    "E_stu = pd.DataFrame(E_students_people)\n",
    "\n",
    "\n",
    "\n",
    "A_stu = A_stu.rename(columns={0: 'number'})\n",
    "B_stu = B_stu.rename(columns={0: 'number'})\n",
    "C_stu = C_stu.rename(columns={0: 'number'})\n",
    "D_stu = D_stu.rename(columns={0: 'number'})\n",
    "E_stu = E_stu.rename(columns={0: 'number'})\n"
   ]
  },
  {
   "cell_type": "code",
   "execution_count": 53,
   "metadata": {},
   "outputs": [],
   "source": [
    "\n",
    "A_stu_heat = x_need_aid_test.merge(A_stu, on=  'number')\n",
    "B_stu_heat = x_need_aid_test.merge(B_stu, on=  'number')\n",
    "C_stu_heat = x_need_aid_test.merge(C_stu, on=  'number')\n",
    "D_stu_heat = x_need_aid_test.merge(D_stu, on=  'number')\n",
    "E_stu_heat = x_need_aid_test.merge(E_stu, on=  'number')"
   ]
  },
  {
   "cell_type": "code",
   "execution_count": 54,
   "metadata": {},
   "outputs": [],
   "source": [
    "def draw_heat_map(df, label): #define a function to plot hea\n",
    "    plt.style.use(\"seaborn\")\n",
    "\n",
    "    #Plot the heatmap\n",
    "    plt.figure(figsize=(5,5))\n",
    "    heat_map = sns.heatmap(df, linewidth = 1 , annot = True , cmap=\"Greens\")\n",
    "    heat_map.set(xlabel='', ylabel='Income decile')\n",
    "    heat_map.invert_yaxis()\n",
    "    heat_map.tick_params(labeltop=True, labelbottom=False, top=False)\n",
    "    plt.title(f\"Ability decile {label}\")\n",
    "#     plt.savefig('Geometry Aid consequences A_stu_heat.png', dpi=300 , bbox_inches='tight')\n",
    "\n",
    "    plt.show()"
   ]
  },
  {
   "cell_type": "code",
   "execution_count": 55,
   "metadata": {},
   "outputs": [
    {
     "data": {
      "image/png": "[encoded data removed]",
      "text/plain": [
       "<Figure size 500x500 with 2 Axes>"
      ]
     },
     "metadata": {},
     "output_type": "display_data"
    }
   ],
   "source": [
    "# Build heatmap for cross relation between Income and ability.\n",
    "# Fake scenario 1\n",
    "##\n",
    "gkk = A_stu_heat.groupby([\"Income_decile\" , \"Ability_decile\"])['Ability'].count()\n",
    "\n",
    "##\n",
    "gkk = gkk.reset_index()\n",
    "\n",
    "##\n",
    "dfi = pd.DataFrame({\n",
    "        'Income_decile' : range(1 , 6)\n",
    "        })\n",
    "dfs = pd.DataFrame({\n",
    "        'Ability_decile' : range(1 , 6)\n",
    "        })\n",
    "\n",
    "df = dfi.merge(dfs , how = 'cross')\n",
    "df\n",
    "\n",
    "##\n",
    "df = df.merge(gkk , how = 'left' , on = ['Income_decile' , 'Ability_decile'])\n",
    "\n",
    "##\n",
    "df = df.fillna(0)\n",
    "\n",
    "##\n",
    "df1 = df.pivot(index = 'Income_decile' ,\n",
    "               columns = 'Ability_decile' ,\n",
    "               values = 'Ability')\n",
    "##\n",
    "df1 = df1.astype(int)*0.5\n",
    "\n",
    "plt.style.use(\"seaborn\")\n",
    "\n",
    "\n",
    "#Plot the heatmap\n",
    "plt.figure(figsize=(5,5))\n",
    "heat_map = sns.heatmap( df1, linewidth = 1 , annot = True , cmap=\"Greens\")\n",
    "heat_map.set(xlabel='', ylabel='Income decile')\n",
    "heat_map.invert_yaxis()\n",
    "heat_map.tick_params(labeltop=True, labelbottom=False, top=False)\n",
    "plt.title(\"Ability decile\")\n",
    "# plt.savefig('Geometry Aid consequences A_stu_heat.png', dpi=300 , bbox_inches='tight')\n",
    "\n",
    "plt.show()\n"
   ]
  },
  {
   "cell_type": "code",
   "execution_count": 56,
   "metadata": {},
   "outputs": [],
   "source": [
    "### Following blocks clean data to show us different aid for differnt income decile.\n",
    "\n",
    "level_tuition_A= 1.6\n",
    "level_tuition_B= .8\n",
    "level_tuition_C= .7 \n",
    "level_tuition_D= .5\n",
    "level_tuition_E= 0\n",
    "\n",
    "A_stu_heat['Aid'] = level_tuition_A\n",
    "B_stu_heat['Aid'] = level_tuition_B\n",
    "C_stu_heat['Aid'] = level_tuition_C\n",
    "D_stu_heat['Aid'] = level_tuition_D\n",
    "E_stu_heat['Aid'] = level_tuition_E\n"
   ]
  },
  {
   "cell_type": "code",
   "execution_count": 57,
   "metadata": {},
   "outputs": [],
   "source": [
    "population = A_stu_heat.append(B_stu_heat)\n",
    "population = population.append(C_stu_heat)\n",
    "population = population.append(D_stu_heat)\n",
    "population = population.append(E_stu_heat)"
   ]
  },
  {
   "cell_type": "code",
   "execution_count": 58,
   "metadata": {},
   "outputs": [
    {
     "name": "stdout",
     "output_type": "stream",
     "text": [
      "Aid Allocation for differnt income deciles: [11.916666666666666, 13.319444444444445, 22.583333333333332, 26.86111111111111, 25.319444444444443]\n"
     ]
    },
    {
     "data": {
      "image/png": "[encoded data removed]",
      "text/plain": [
       "<Figure size 1000x500 with 1 Axes>"
      ]
     },
     "metadata": {},
     "output_type": "display_data"
    }
   ],
   "source": [
    "\n",
    "population = population.groupby('Income_decile').sum()\n",
    "\n",
    "income_list = population.index.to_list()\n",
    "\n",
    "Aid_list = population['Aid'].to_list() \n",
    "Aid_list = [100*i/720  for i in Aid_list]\n",
    "print('Aid Allocation for differnt income deciles:',Aid_list)\n",
    "\n",
    "fig = plt.figure(figsize = (10, 5))\n",
    "\n",
    "color = (0.5, # redness\n",
    "         0.7, # greenness\n",
    "         0.4, # blueness\n",
    "         0.9 # transparency\n",
    "         ) \n",
    "# creating the bar plot\n",
    "plt.bar(income_list, Aid_list, color =color, \n",
    "        width = 0.4)\n",
    " \n",
    "plt.xlabel(\"Different Income decile\")\n",
    "plt.ylabel(\"Allocated Aid (by percent)\")\n",
    "plt.title(\"Aid Allocation based on different Income deciles\")\n",
    "plt.show()"
   ]
  },
  {
   "cell_type": "code",
   "execution_count": 59,
   "metadata": {},
   "outputs": [],
   "source": [
    "# quality_utility = {\"A\":499.4868378815731 , \"B\":443.852001391096 , \"C\":370.93193653432913 , \"D\":339.1289739989186 , \"E\":345.69276059244614}\n",
    "\n",
    "## Follwing code prepare data to calculate cosumption in zero state condition that tuition paid by governs.\n",
    "util_qual_A = 499.4868378815731\n",
    "util_qual_B = 443.852001391096\n",
    "util_qual_C = 370.93193653432913\n",
    "util_qual_D = 339.1289739989186\n",
    "util_qual_E = 345.69276059244614\n",
    "A_stu_heat['util']= np.log(A_stu_heat['Income'] - A_stu_heat['edu_inv1']+1) + np.log(util_qual_A+1) + beta * np.log(A_stu_heat['Ability']+1)  \n",
    "B_stu_heat['util']= np.log(B_stu_heat['Income'] - B_stu_heat['edu_inv1']+1) + np.log(util_qual_B+1) + beta * np.log(B_stu_heat['Ability']+1)  \n",
    "C_stu_heat['util']= np.log(C_stu_heat['Income'] - C_stu_heat['edu_inv1']+1) + np.log(util_qual_C+1) + beta * np.log(C_stu_heat['Ability']+1)  \n",
    "D_stu_heat['util']= np.log(D_stu_heat['Income'] - D_stu_heat['edu_inv1']+1) + np.log(util_qual_D+1) + beta * np.log(D_stu_heat['Ability']+1)  \n",
    "E_stu_heat['util']= np.log(E_stu_heat['Income'] - E_stu_heat['edu_inv1']+1) + np.log(util_qual_E+1) + beta * np.log(E_stu_heat['Ability']+1)  "
   ]
  },
  {
   "cell_type": "code",
   "execution_count": 60,
   "metadata": {},
   "outputs": [
    {
     "name": "stdout",
     "output_type": "stream",
     "text": [
      "Social welfare of people in zerostate is 9943.826152345653\n"
     ]
    }
   ],
   "source": [
    "total_util_zerostate = A_stu_heat['util'].sum() + B_stu_heat['util'].sum() + C_stu_heat['util'].sum() + D_stu_heat['util'].sum() + E_stu_heat['util'].sum()\n",
    "print('Social welfare of people in zerostate is', total_util_zerostate)"
   ]
  },
  {
   "cell_type": "code",
   "execution_count": 61,
   "metadata": {},
   "outputs": [],
   "source": [
    "x_noaid_test['cons'] = np.log(x_noaid_test['Income'] - x_noaid_test['edu_inv1'] +1)"
   ]
  },
  {
   "cell_type": "code",
   "execution_count": 62,
   "metadata": {},
   "outputs": [],
   "source": [
    "x_noaid_test = x_noaid_test.groupby(by='Income_decile').sum()"
   ]
  },
  {
   "cell_type": "code",
   "execution_count": 63,
   "metadata": {},
   "outputs": [
    {
     "data": {
      "text/plain": [
       "[86.87262779843152,\n",
       " 299.04637915975275,\n",
       " 379.1056537714724,\n",
       " 439.35780385687787,\n",
       " 504.6039861950231]"
      ]
     },
     "execution_count": 63,
     "metadata": {},
     "output_type": "execute_result"
    }
   ],
   "source": [
    "x_noaid_test['cons'].tolist()  ## Zero state consumption."
   ]
  }
 ],
 "metadata": {
  "kernelspec": {
   "display_name": "Python 3",
   "language": "python",
   "name": "python3"
  },
  "language_info": {
   "codemirror_mode": {
    "name": "ipython",
    "version": 3
   },
   "file_extension": ".py",
   "mimetype": "text/x-python",
   "name": "python",
   "nbconvert_exporter": "python",
   "pygments_lexer": "ipython3",
   "version": "3.10.9"
  }
 },
 "nbformat": 4,
 "nbformat_minor": 2
}
